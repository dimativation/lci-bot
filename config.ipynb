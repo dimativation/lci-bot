{
 "cells": [
  {
   "cell_type": "code",
   "execution_count": 1,
   "id": "d3396c26",
   "metadata": {},
   "outputs": [],
   "source": [
    "api_key = \"cjd37SWJxeKoYuhXtyHz2qbEdliNI0z5vui00FKeVwAgC6amPDASKNsC516ARLzU\"\n",
    "secret_key = \"CkAAmaHtkyCQOlqDGwhLBgIskP5X1uASazhuuGBIYjMMZCoCpPG5DwQrfZdK9yt7\""
   ]
  },
  {
   "cell_type": "code",
   "execution_count": null,
   "id": "48ea50a8",
   "metadata": {},
   "outputs": [],
   "source": []
  }
 ],
 "metadata": {
  "kernelspec": {
   "display_name": "Python 3",
   "language": "python",
   "name": "python3"
  },
  "language_info": {
   "codemirror_mode": {
    "name": "ipython",
    "version": 3
   },
   "file_extension": ".py",
   "mimetype": "text/x-python",
   "name": "python",
   "nbconvert_exporter": "python",
   "pygments_lexer": "ipython3",
   "version": "3.8.5"
  }
 },
 "nbformat": 4,
 "nbformat_minor": 5
}
